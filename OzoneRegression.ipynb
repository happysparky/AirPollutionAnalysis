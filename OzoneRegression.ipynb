{
 "cells": [
  {
   "cell_type": "code",
   "execution_count": 104,
   "metadata": {},
   "outputs": [
    {
     "name": "stdout",
     "output_type": "stream",
     "text": [
      "       Parameter Name Date (Local)  Arithmetic Mean\n",
      "0        OC3 PM2.5 LC   2016-01-01            2.261\n",
      "22  Chlorine PM2.5 LC   2016-01-01            0.008\n",
      "49       OC1 PM2.5 LC   2016-01-01            0.664\n",
      "79  Chlorine PM2.5 LC   2016-01-01            0.027\n",
      "87  Chlorine PM2.5 LC   2016-01-01            0.027\n"
     ]
    }
   ],
   "source": [
    "import pandas as pd\n",
    "import matplotlib.pyplot as plt\n",
    "import numpy as np\n",
    "from matplotlib import cm\n",
    "\n",
    "\n",
    "'''\n",
    "Notes: Some of these graphs are very large and so I had difficulty importing them\n",
    "into my final deliverable. Additionally, I wrote most of this in a Jupyter Notebook,\n",
    "so I didn't have to explicitly call plt.show() to display my graphs. It also means\n",
    "that sometimes you see output at the end of a cell, which can be disregaded except\n",
    "as a sanity/type check\n",
    "\n",
    "'''\n",
    "\n",
    "#Begin by parsing data\n",
    "\n",
    "rawData = [\"EPADataSets\\\\daily_06_037_1103_2016.csv\", \"EPADataSets\\\\daily_06_037_1103_2017.csv\", \n",
    "           \"EPADataSets\\\\daily_06_037_1103_2018.csv\", \"EPADataSets\\\\daily_06_037_1103_2019.csv\",\n",
    "           \"EPADataSets\\\\daily_06_037_1103_2020.csv\"]\n",
    "\n",
    "# keepList = [\"Ammonium Ion PM2.5 LC\", \"Chromium PM2.5 LC\", \"Cesium PM2.5 LC\", \"Lead PM2.5 LC\",\n",
    "#             \"Zinc PM2.5 LC\", \"Chlorine PM2.5 LC\", \"Magnesium PM2.5 LC\", \"Phosophorus PM2.5 LC\",\n",
    "#            \"Nickel PM2.5 LC\", \"Strontium PM2.5 LC\", \"Cadmium PM2.5 LC\", \"Iron PM2.5 LC\", \"Sulfate PM2.5 LC\",\n",
    "#             \"Bromine PM2.5 LC\", \"Antimony PM2.5 LC\", \"Selenium PM2.5 LC\", \"Sodium PM2.5 LC\", \n",
    "#             \"Rubidium PM2.5 LC\", \"Aluminum PM2.5 LC\", \"Sodium Ion Pm2.5\" \"Silicon PM2.5 LC\", \n",
    "#             \"Potassium PM2.5 LC\", \"Sulfur PM2.5 LC\", \"Chloride PM2.5 LC\", \"Barium PM2.5 LC\",\n",
    "#             \"Calcium PM2.5 LC\", \"Titanium PM2.5 LC\", \"Zirconium PM2.5 LC\", \"Potassium PM2.5 LC\", \n",
    "#             \"Copper PM2.5 LC\", \"Tin PM2.5 LC\", \"Manganese PM2.5 LC\", \"Silver PM2.5 LC\", \"Indium PM2.5 LC\", \n",
    "#             \"Cerium PM2.5 LC\"]\n",
    "\n",
    "#https://pubs-acs-org.libproxy2.usc.edu/doi/full/10.1021/es400416g\n",
    "\n",
    "# keepList = [\"Wind Direction - Scalar\", \"Wind Direction - Resultant\", \"Chlorine PM2.5 LC\", \"Calcium PM2.5LC\", \"Magnesium PM2.5LC\",\n",
    "#            \"Sodium PM2.5LC\", \"OC1 PM2.5 LC\",\"OC2 PM2.5 LC\",\"OC3 PM2.5 LC\",\"EC1 PM2.5 LC\",\n",
    "#            \"EC2 PM2.5 LC\",\"EC3 PM2.5 LC\",]\n",
    "        \n",
    "keepList = [\"Ozone\", \"Nitrogen dioxide (NO2)\", \"Nitric oxide (NO)\", \"Carbon monoxide\", \"Sulfur \"]    \n",
    "\n",
    "allYears = []\n",
    "for i in rawData:\n",
    "    # Read the columns we want\n",
    "    df = pd.read_csv(i, usecols=[\"Parameter Name\", \"Date (Local)\", \"Arithmetic Mean\"])\n",
    "\n",
    "    # Change date to datetime object\n",
    "    #df[\"Date (Local)\"] = pd.to_datetime(df[\"Date (Local)\"])\n",
    "\n",
    "    #Only keep the rows that contain data of relevant elements\n",
    "    df = df[df[\"Parameter Name\"].isin(keepList)]    \n",
    "    \n",
    "    #Rename wind directions\n",
    "    df.loc[df[\"Parameter Name\"] == \"Wind Direction - Scalar\", \"Parameter Name\"] = \"Wind Direction - Resultant\"\n",
    "    \n",
    "    allYears.append(df)\n",
    "\n",
    "print(allYears[0].head())"
   ]
  },
  {
   "cell_type": "code",
   "execution_count": 105,
   "metadata": {
    "scrolled": true
   },
   "outputs": [
    {
     "name": "stdout",
     "output_type": "stream",
     "text": [
      "Parameter   Chlorine PM2.5 LC  EC1 PM2.5 LC  EC2 PM2.5 LC  EC3 PM2.5 LC  \\\n",
      "Date                                                                      \n",
      "2016-01-01           0.020667         1.296         0.036         0.000   \n",
      "2016-01-02                NaN           NaN           NaN           NaN   \n",
      "2016-01-03                NaN           NaN           NaN           NaN   \n",
      "2016-01-04           0.013000         0.694         0.078         0.018   \n",
      "2016-01-05                NaN           NaN           NaN           NaN   \n",
      "...                       ...           ...           ...           ...   \n",
      "2020-09-26                NaN           NaN           NaN           NaN   \n",
      "2020-09-27                NaN           NaN           NaN           NaN   \n",
      "2020-09-28                NaN           NaN           NaN           NaN   \n",
      "2020-09-29                NaN           NaN           NaN           NaN   \n",
      "2020-09-30                NaN           NaN           NaN           NaN   \n",
      "\n",
      "Parameter   OC1 PM2.5 LC  OC2 PM2.5 LC  OC3 PM2.5 LC  \\\n",
      "Date                                                   \n",
      "2016-01-01         0.664         1.061         2.261   \n",
      "2016-01-02           NaN           NaN           NaN   \n",
      "2016-01-03           NaN           NaN           NaN   \n",
      "2016-01-04         0.297         0.743         1.484   \n",
      "2016-01-05           NaN           NaN           NaN   \n",
      "...                  ...           ...           ...   \n",
      "2020-09-26           NaN           NaN           NaN   \n",
      "2020-09-27           NaN           NaN           NaN   \n",
      "2020-09-28           NaN           NaN           NaN   \n",
      "2020-09-29           NaN           NaN           NaN   \n",
      "2020-09-30           NaN           NaN           NaN   \n",
      "\n",
      "Parameter   Wind Direction - Resultant  \n",
      "Date                                    \n",
      "2016-01-01                  105.791667  \n",
      "2016-01-02                   84.125000  \n",
      "2016-01-03                  104.291667  \n",
      "2016-01-04                  105.083333  \n",
      "2016-01-05                  192.791667  \n",
      "...                                ...  \n",
      "2020-09-26                  175.270833  \n",
      "2020-09-27                  175.708333  \n",
      "2020-09-28                  223.062500  \n",
      "2020-09-29                  221.291667  \n",
      "2020-09-30                  137.562500  \n",
      "\n",
      "[1735 rows x 8 columns]\n"
     ]
    }
   ],
   "source": [
    "from statistics import mean \n",
    "\n",
    "#reformat the data the way we want it\n",
    "cleandf = pd.DataFrame(columns=[\"Parameter\", \"Date\", \"Average\"])\n",
    "\n",
    "#average out repeats per day per parameter name\n",
    "for year in allYears:\n",
    "    year = year.groupby(\"Date (Local)\")\n",
    "    \n",
    "    for key, grp in year:\n",
    "        temp = {}\n",
    "        #get the counts for each parameter per day\n",
    "        for i, row in grp.iterrows():\n",
    "            if(row[0] in temp):\n",
    "                 temp[row[0]].append(row[2])\n",
    "            else:\n",
    "                 temp[row[0]] = [row[2]]\n",
    "                \n",
    "        #average out the counts for each perameter\n",
    "        for parameter in temp:\n",
    "            temp[parameter] = mean(temp[parameter])\n",
    "        \n",
    "        temp2 = {\"Date\": [], \"Parameter\":[], \"Average\":[]} \n",
    "        for parameter in temp:\n",
    "            temp2[\"Date\"].append(key)\n",
    "            temp2[\"Parameter\"].append(parameter)\n",
    "            temp2[\"Average\"].append(temp[parameter])\n",
    "            \n",
    "        tempdf = pd.DataFrame(temp2)\n",
    "        cleandf = cleandf.append(tempdf)\n",
    "    \n",
    "cleandf = cleandf.pivot(index=\"Date\", columns=\"Parameter\", values=\"Average\")\n",
    "\n",
    "\n",
    "print(cleandf)"
   ]
  },
  {
   "cell_type": "code",
   "execution_count": 106,
   "metadata": {},
   "outputs": [],
   "source": [
    "#clean up the data even more\n",
    "cleandf = cleandf.dropna()\n",
    "cleandf[\"FromSea\"] = cleandf['Wind Direction - Resultant'].apply(lambda x: 0 if x < 180 else 1)"
   ]
  },
  {
   "cell_type": "code",
   "execution_count": 107,
   "metadata": {},
   "outputs": [
    {
     "name": "stdout",
     "output_type": "stream",
     "text": [
      "520 \n",
      "\n",
      "(520, 9) \n",
      "\n"
     ]
    }
   ],
   "source": [
    "#Let's explore the data a bit\n",
    "print(len(cleandf), \"\\n\")\n",
    "print(cleandf.shape, \"\\n\")"
   ]
  },
  {
   "cell_type": "code",
   "execution_count": 22,
   "metadata": {
    "scrolled": true
   },
   "outputs": [
    {
     "name": "stdout",
     "output_type": "stream",
     "text": [
      "<class 'pandas.core.frame.DataFrame'>\n",
      "Int64Index: 1321 entries, 0 to 36231\n",
      "Data columns (total 3 columns):\n",
      " #   Column           Non-Null Count  Dtype  \n",
      "---  ------           --------------  -----  \n",
      " 0   Parameter Name   1321 non-null   object \n",
      " 1   Date (Local)     1321 non-null   object \n",
      " 2   Arithmetic Mean  1321 non-null   float64\n",
      "dtypes: float64(1), object(2)\n",
      "memory usage: 41.3+ KB\n",
      "None \n",
      "\n",
      "<class 'pandas.core.frame.DataFrame'>\n",
      "Int64Index: 1703 entries, 3 to 38668\n",
      "Data columns (total 3 columns):\n",
      " #   Column           Non-Null Count  Dtype  \n",
      "---  ------           --------------  -----  \n",
      " 0   Parameter Name   1703 non-null   object \n",
      " 1   Date (Local)     1703 non-null   object \n",
      " 2   Arithmetic Mean  1703 non-null   float64\n",
      "dtypes: float64(1), object(2)\n",
      "memory usage: 53.2+ KB\n",
      "None \n",
      "\n",
      "<class 'pandas.core.frame.DataFrame'>\n",
      "Int64Index: 1563 entries, 0 to 31937\n",
      "Data columns (total 3 columns):\n",
      " #   Column           Non-Null Count  Dtype  \n",
      "---  ------           --------------  -----  \n",
      " 0   Parameter Name   1563 non-null   object \n",
      " 1   Date (Local)     1563 non-null   object \n",
      " 2   Arithmetic Mean  1563 non-null   float64\n",
      "dtypes: float64(1), object(2)\n",
      "memory usage: 48.8+ KB\n",
      "None \n",
      "\n",
      "<class 'pandas.core.frame.DataFrame'>\n",
      "Int64Index: 1565 entries, 1 to 32432\n",
      "Data columns (total 3 columns):\n",
      " #   Column           Non-Null Count  Dtype  \n",
      "---  ------           --------------  -----  \n",
      " 0   Parameter Name   1565 non-null   object \n",
      " 1   Date (Local)     1565 non-null   object \n",
      " 2   Arithmetic Mean  1565 non-null   float64\n",
      "dtypes: float64(1), object(2)\n",
      "memory usage: 48.9+ KB\n",
      "None \n",
      "\n",
      "<class 'pandas.core.frame.DataFrame'>\n",
      "Int64Index: 873 entries, 5 to 16334\n",
      "Data columns (total 3 columns):\n",
      " #   Column           Non-Null Count  Dtype  \n",
      "---  ------           --------------  -----  \n",
      " 0   Parameter Name   873 non-null    object \n",
      " 1   Date (Local)     873 non-null    object \n",
      " 2   Arithmetic Mean  873 non-null    float64\n",
      "dtypes: float64(1), object(2)\n",
      "memory usage: 27.3+ KB\n",
      "None \n",
      "\n"
     ]
    }
   ],
   "source": [
    "#To get a sense of the information:\n",
    "for year in allYears:\n",
    "    print(year.info(), \"\\n\")"
   ]
  },
  {
   "cell_type": "code",
   "execution_count": 23,
   "metadata": {
    "scrolled": false
   },
   "outputs": [
    {
     "name": "stdout",
     "output_type": "stream",
     "text": [
      "Parameter Name     0\n",
      "Date (Local)       0\n",
      "Arithmetic Mean    0\n",
      "dtype: int64\n",
      "Parameter Name     0\n",
      "Date (Local)       0\n",
      "Arithmetic Mean    0\n",
      "dtype: int64\n",
      "Parameter Name     0\n",
      "Date (Local)       0\n",
      "Arithmetic Mean    0\n",
      "dtype: int64\n",
      "Parameter Name     0\n",
      "Date (Local)       0\n",
      "Arithmetic Mean    0\n",
      "dtype: int64\n",
      "Parameter Name     0\n",
      "Date (Local)       0\n",
      "Arithmetic Mean    0\n",
      "dtype: int64\n"
     ]
    }
   ],
   "source": [
    "for year in allYears:\n",
    "    print(year.isnull().sum())"
   ]
  },
  {
   "cell_type": "code",
   "execution_count": 17,
   "metadata": {},
   "outputs": [],
   "source": [
    "direction = allYears[0][(allYears[0][\"Parameter Name\"] == \"Wind Direction - Scalar\") | \n",
    "                       (allYears[0][\"Parameter Name\"] == \"Wind Direction - Resultant\")]\n",
    "variables = allYears[0][(allYears[0][\"Parameter Name\"] != \"Wind Direction - Scalar\")\n",
    "                       & (allYears[0][\"Parameter Name\"] != \"Wind Direction - Resultant\")]"
   ]
  },
  {
   "cell_type": "code",
   "execution_count": null,
   "metadata": {},
   "outputs": [],
   "source": [
    "fig, ax = plt.subplots(7, 1, figsize = (5, 30))\n",
    "\n",
    "graph = 0\n",
    "byParameter = variables.groupby(\"Parameter Name\")\n",
    "\n",
    "for key, grp in byParameter:\n",
    "    for i in range(len(grp[\"Date (Local)\"])):        \n",
    "        ax[graph].set_title(key)\n",
    "        for j in range(len(direction[\"Date (Local)\"])):\n",
    "            if direction[\"Date (Local)\"].iloc[j] == grp[\"Date (Local)\"].iloc[i]:\n",
    "                ax[graph].scatter(grp[\"Arithmetic Mean\"].iloc[i], direction[\"Arithmetic Mean\"].iloc[j], \n",
    "                                  s = 5, c=\"BLUE\")#c=colors[graph], s = 5)\n",
    "                break\n",
    "    graph += 1\n",
    "                \n",
    "        \n",
    "fig.tight_layout()"
   ]
  },
  {
   "cell_type": "code",
   "execution_count": null,
   "metadata": {},
   "outputs": [],
   "source": [
    "#EC3 stands out as mostly being 0s, so lets drop it because it probably isn't really needed anyway\n"
   ]
  },
  {
   "cell_type": "code",
   "execution_count": 18,
   "metadata": {
    "scrolled": true
   },
   "outputs": [
    {
     "name": "stdout",
     "output_type": "stream",
     "text": [
      "              Parameter Name Date (Local)  Arithmetic Mean  FromSea\n",
      "147  Wind Direction - Scalar   2016-01-01       105.791667        0\n",
      "363  Wind Direction - Scalar   2016-01-02        84.125000        0\n",
      "398  Wind Direction - Scalar   2016-01-03       104.291667        0\n",
      "509  Wind Direction - Scalar   2016-01-04       105.083333        0\n",
      "536  Wind Direction - Scalar   2016-01-05       192.791667        1\n"
     ]
    },
    {
     "name": "stderr",
     "output_type": "stream",
     "text": [
      "<ipython-input-18-199613ad20ac>:2: SettingWithCopyWarning: \n",
      "A value is trying to be set on a copy of a slice from a DataFrame.\n",
      "Try using .loc[row_indexer,col_indexer] = value instead\n",
      "\n",
      "See the caveats in the documentation: https://pandas.pydata.org/pandas-docs/stable/user_guide/indexing.html#returning-a-view-versus-a-copy\n",
      "  direction['FromSea'] = direction['Arithmetic Mean'].apply(lambda x: 0 if x < 180 else 1)\n"
     ]
    }
   ],
   "source": [
    "#Define \"blowing from the sea\" as degrees >=180,  \"blowing from the land\" < 180\n",
    "direction['FromSea'] = direction['Arithmetic Mean'].apply(lambda x: 0 if x < 180 else 1)\n",
    "print(direction.head())"
   ]
  },
  {
   "cell_type": "code",
   "execution_count": null,
   "metadata": {},
   "outputs": [],
   "source": [
    "new_df = pd.DataFrame()\n",
    "\n",
    "byParameter = variables.groupby(\"Parameter Name\")\n",
    "\n",
    "for key, grp in byParameter:\n",
    "    for i in range(len(grp[\"Date (Local)\"])):        \n",
    "        ax[graph].set_title(key)\n",
    "        for j in range(len(direction[\"Date (Local)\"])):\n",
    "            if direction[\"Date (Local)\"].iloc[j] == grp[\"Date (Local)\"].iloc[i]:\n",
    "                \n",
    "                \n",
    "                \n",
    "                \n",
    "                break\n",
    "    graph += 1\n",
    "                "
   ]
  },
  {
   "cell_type": "code",
   "execution_count": null,
   "metadata": {},
   "outputs": [],
   "source": []
  }
 ],
 "metadata": {
  "kernelspec": {
   "display_name": "Python 3",
   "language": "python",
   "name": "python3"
  },
  "language_info": {
   "codemirror_mode": {
    "name": "ipython",
    "version": 3
   },
   "file_extension": ".py",
   "mimetype": "text/x-python",
   "name": "python",
   "nbconvert_exporter": "python",
   "pygments_lexer": "ipython3",
   "version": "3.8.5"
  }
 },
 "nbformat": 4,
 "nbformat_minor": 4
}
